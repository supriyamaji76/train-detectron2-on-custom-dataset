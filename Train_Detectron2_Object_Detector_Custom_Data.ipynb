{
  "cells": [
    {
      "cell_type": "markdown",
      "metadata": {
        "id": "D9ZsFr6--Lxg"
      },
      "source": [
        "### Install requirements"
      ]
    },
    {
      "cell_type": "code",
      "execution_count": null,
      "metadata": {
        "id": "xWh477fIw_al"
      },
      "outputs": [],
      "source": [
        "!pip install torch==2.0.0\n",
        "!pip install torchvision==0.15.1\n",
        "!pip install opencv-python==4.6.0.66\n",
        "!pip install matplotlib==3.5.3\n",
        "!pip install git+https://github.com/facebookresearch/detectron2.git\n"
      ]
    },
    {
      "cell_type": "markdown",
      "metadata": {},
      "source": [
        "# Download Balloon Dataset and unzip"
      ]
    },
    {
      "cell_type": "code",
      "execution_count": null,
      "metadata": {},
      "outputs": [],
      "source": [
        "!curl -L -o balloon_dataset.zip https://github.com/matterport/Mask_RCNN/releases/download/v2.1/balloon_dataset.zip\n",
        "unzip balloon_dataset.zip"
      ]
    },
    {
      "cell_type": "markdown",
      "metadata": {
        "id": "3chYfIWs-Sqa"
      },
      "source": [
        "### Train !"
      ]
    },
    {
      "cell_type": "code",
      "execution_count": null,
      "metadata": {
        "id": "5xDV20jH0mzk"
      },
      "outputs": [],
      "source": [
        "!python train.py --device mps --learning-rate 0.00001 --iterations 60"
      ]
    }
  ],
  "metadata": {
    "accelerator": "GPU",
    "colab": {
      "provenance": []
    },
    "gpuClass": "standard",
    "kernelspec": {
      "display_name": "Python 3",
      "name": "python3"
    },
    "language_info": {
      "codemirror_mode": {
        "name": "ipython",
        "version": 3
      },
      "file_extension": ".py",
      "mimetype": "text/x-python",
      "name": "python",
      "nbconvert_exporter": "python",
      "pygments_lexer": "ipython3",
      "version": "3.10.18"
    }
  },
  "nbformat": 4,
  "nbformat_minor": 0
}
